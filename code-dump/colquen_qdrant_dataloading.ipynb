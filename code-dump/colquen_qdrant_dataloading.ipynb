{
  "cells": [
    {
      "cell_type": "markdown",
      "metadata": {
        "id": "ba_wW_UQALmu"
      },
      "source": [
        "install python packages and popper (for ocd)\n",
        "\n"
      ]
    },
    {
      "cell_type": "code",
      "execution_count": null,
      "metadata": {
        "colab": {
          "base_uri": "https://localhost:8080/"
        },
        "id": "VIly_Pymmbyl",
        "outputId": "e2bd762f-d992-498c-aeb8-99b251d4f5c2"
      },
      "outputs": [
        {
          "name": "stdout",
          "output_type": "stream",
          "text": [
            "Reading package lists... Done\n",
            "Building dependency tree... Done\n",
            "Reading state information... Done\n",
            "poppler-utils is already the newest version (22.02.0-2ubuntu0.5).\n",
            "0 upgraded, 0 newly installed, 0 to remove and 49 not upgraded.\n",
            "Requirement already satisfied: colpali-engine==0.3.1 in /usr/local/lib/python3.10/dist-packages (0.3.1)\n",
            "Requirement already satisfied: pdf2image in /usr/local/lib/python3.10/dist-packages (1.17.0)\n",
            "Requirement already satisfied: pypdf in /usr/local/lib/python3.10/dist-packages (5.0.1)\n",
            "Requirement already satisfied: pyvespa in /usr/local/lib/python3.10/dist-packages (0.50.0)\n",
            "Requirement already satisfied: vespacli in /usr/local/lib/python3.10/dist-packages (8.391.23)\n",
            "Requirement already satisfied: requests in /usr/local/lib/python3.10/dist-packages (2.32.3)\n",
            "Requirement already satisfied: numpy in /usr/local/lib/python3.10/dist-packages (1.26.4)\n",
            "Requirement already satisfied: tqdm in /usr/local/lib/python3.10/dist-packages (4.66.5)\n",
            "Requirement already satisfied: pdfminer.six in /usr/local/lib/python3.10/dist-packages (20240706)\n",
            "Requirement already satisfied: gputil in /usr/local/lib/python3.10/dist-packages (from colpali-engine==0.3.1) (1.4.0)\n",
            "Requirement already satisfied: peft<0.12.0,>=0.11.0 in /usr/local/lib/python3.10/dist-packages (from colpali-engine==0.3.1) (0.11.1)\n",
            "Requirement already satisfied: pillow<11.0.0,>=9.2.0 in /usr/local/lib/python3.10/dist-packages (from colpali-engine==0.3.1) (10.4.0)\n",
            "Requirement already satisfied: torch>=2.2.0 in /usr/local/lib/python3.10/dist-packages (from colpali-engine==0.3.1) (2.5.0+cu121)\n",
            "Requirement already satisfied: transformers>=4.45.0 in /usr/local/lib/python3.10/dist-packages (from colpali-engine==0.3.1) (4.46.0)\n",
            "Requirement already satisfied: typing_extensions>=4.0 in /usr/local/lib/python3.10/dist-packages (from pypdf) (4.12.2)\n",
            "Requirement already satisfied: requests-toolbelt in /usr/local/lib/python3.10/dist-packages (from pyvespa) (1.0.0)\n",
            "Requirement already satisfied: docker in /usr/local/lib/python3.10/dist-packages (from pyvespa) (7.1.0)\n",
            "Requirement already satisfied: jinja2 in /usr/local/lib/python3.10/dist-packages (from pyvespa) (3.1.4)\n",
            "Requirement already satisfied: cryptography in /usr/local/lib/python3.10/dist-packages (from pyvespa) (43.0.3)\n",
            "Requirement already satisfied: aiohttp in /usr/local/lib/python3.10/dist-packages (from pyvespa) (3.10.10)\n",
            "Requirement already satisfied: httpx[http2] in /usr/local/lib/python3.10/dist-packages (from pyvespa) (0.27.2)\n",
            "Requirement already satisfied: tenacity>=8.4.1 in /usr/local/lib/python3.10/dist-packages (from pyvespa) (9.0.0)\n",
            "Requirement already satisfied: python-dateutil in /usr/local/lib/python3.10/dist-packages (from pyvespa) (2.8.2)\n",
            "Requirement already satisfied: fastcore>=1.7.8 in /usr/local/lib/python3.10/dist-packages (from pyvespa) (1.7.19)\n",
            "Requirement already satisfied: lxml in /usr/local/lib/python3.10/dist-packages (from pyvespa) (4.9.4)\n",
            "Requirement already satisfied: charset-normalizer<4,>=2 in /usr/local/lib/python3.10/dist-packages (from requests) (3.4.0)\n",
            "Requirement already satisfied: idna<4,>=2.5 in /usr/local/lib/python3.10/dist-packages (from requests) (3.10)\n",
            "Requirement already satisfied: urllib3<3,>=1.21.1 in /usr/local/lib/python3.10/dist-packages (from requests) (2.2.3)\n",
            "Requirement already satisfied: certifi>=2017.4.17 in /usr/local/lib/python3.10/dist-packages (from requests) (2024.8.30)\n",
            "Requirement already satisfied: cffi>=1.12 in /usr/local/lib/python3.10/dist-packages (from cryptography->pyvespa) (1.17.1)\n",
            "Requirement already satisfied: packaging in /usr/local/lib/python3.10/dist-packages (from fastcore>=1.7.8->pyvespa) (24.1)\n",
            "Requirement already satisfied: psutil in /usr/local/lib/python3.10/dist-packages (from peft<0.12.0,>=0.11.0->colpali-engine==0.3.1) (5.9.5)\n",
            "Requirement already satisfied: pyyaml in /usr/local/lib/python3.10/dist-packages (from peft<0.12.0,>=0.11.0->colpali-engine==0.3.1) (6.0.2)\n",
            "Requirement already satisfied: accelerate>=0.21.0 in /usr/local/lib/python3.10/dist-packages (from peft<0.12.0,>=0.11.0->colpali-engine==0.3.1) (0.34.2)\n",
            "Requirement already satisfied: safetensors in /usr/local/lib/python3.10/dist-packages (from peft<0.12.0,>=0.11.0->colpali-engine==0.3.1) (0.4.5)\n",
            "Requirement already satisfied: huggingface-hub>=0.17.0 in /usr/local/lib/python3.10/dist-packages (from peft<0.12.0,>=0.11.0->colpali-engine==0.3.1) (0.24.7)\n",
            "Requirement already satisfied: filelock in /usr/local/lib/python3.10/dist-packages (from torch>=2.2.0->colpali-engine==0.3.1) (3.16.1)\n",
            "Requirement already satisfied: networkx in /usr/local/lib/python3.10/dist-packages (from torch>=2.2.0->colpali-engine==0.3.1) (3.4.2)\n",
            "Requirement already satisfied: fsspec in /usr/local/lib/python3.10/dist-packages (from torch>=2.2.0->colpali-engine==0.3.1) (2024.6.1)\n",
            "Requirement already satisfied: sympy==1.13.1 in /usr/local/lib/python3.10/dist-packages (from torch>=2.2.0->colpali-engine==0.3.1) (1.13.1)\n",
            "Requirement already satisfied: mpmath<1.4,>=1.1.0 in /usr/local/lib/python3.10/dist-packages (from sympy==1.13.1->torch>=2.2.0->colpali-engine==0.3.1) (1.3.0)\n",
            "Requirement already satisfied: regex!=2019.12.17 in /usr/local/lib/python3.10/dist-packages (from transformers>=4.45.0->colpali-engine==0.3.1) (2024.9.11)\n",
            "Requirement already satisfied: tokenizers<0.21,>=0.20 in /usr/local/lib/python3.10/dist-packages (from transformers>=4.45.0->colpali-engine==0.3.1) (0.20.1)\n",
            "Requirement already satisfied: aiohappyeyeballs>=2.3.0 in /usr/local/lib/python3.10/dist-packages (from aiohttp->pyvespa) (2.4.3)\n",
            "Requirement already satisfied: aiosignal>=1.1.2 in /usr/local/lib/python3.10/dist-packages (from aiohttp->pyvespa) (1.3.1)\n",
            "Requirement already satisfied: attrs>=17.3.0 in /usr/local/lib/python3.10/dist-packages (from aiohttp->pyvespa) (24.2.0)\n",
            "Requirement already satisfied: frozenlist>=1.1.1 in /usr/local/lib/python3.10/dist-packages (from aiohttp->pyvespa) (1.4.1)\n",
            "Requirement already satisfied: multidict<7.0,>=4.5 in /usr/local/lib/python3.10/dist-packages (from aiohttp->pyvespa) (6.1.0)\n",
            "Requirement already satisfied: yarl<2.0,>=1.12.0 in /usr/local/lib/python3.10/dist-packages (from aiohttp->pyvespa) (1.16.0)\n",
            "Requirement already satisfied: async-timeout<5.0,>=4.0 in /usr/local/lib/python3.10/dist-packages (from aiohttp->pyvespa) (4.0.3)\n",
            "Requirement already satisfied: anyio in /usr/local/lib/python3.10/dist-packages (from httpx[http2]->pyvespa) (3.7.1)\n",
            "Requirement already satisfied: httpcore==1.* in /usr/local/lib/python3.10/dist-packages (from httpx[http2]->pyvespa) (1.0.6)\n",
            "Requirement already satisfied: sniffio in /usr/local/lib/python3.10/dist-packages (from httpx[http2]->pyvespa) (1.3.1)\n",
            "Requirement already satisfied: h2<5,>=3 in /usr/local/lib/python3.10/dist-packages (from httpx[http2]->pyvespa) (4.1.0)\n",
            "Requirement already satisfied: h11<0.15,>=0.13 in /usr/local/lib/python3.10/dist-packages (from httpcore==1.*->httpx[http2]->pyvespa) (0.14.0)\n",
            "Requirement already satisfied: MarkupSafe>=2.0 in /usr/local/lib/python3.10/dist-packages (from jinja2->pyvespa) (3.0.2)\n",
            "Requirement already satisfied: six>=1.5 in /usr/local/lib/python3.10/dist-packages (from python-dateutil->pyvespa) (1.16.0)\n",
            "Requirement already satisfied: pycparser in /usr/local/lib/python3.10/dist-packages (from cffi>=1.12->cryptography->pyvespa) (2.22)\n",
            "Requirement already satisfied: hyperframe<7,>=6.0 in /usr/local/lib/python3.10/dist-packages (from h2<5,>=3->httpx[http2]->pyvespa) (6.0.1)\n",
            "Requirement already satisfied: hpack<5,>=4.0 in /usr/local/lib/python3.10/dist-packages (from h2<5,>=3->httpx[http2]->pyvespa) (4.0.0)\n",
            "Requirement already satisfied: propcache>=0.2.0 in /usr/local/lib/python3.10/dist-packages (from yarl<2.0,>=1.12.0->aiohttp->pyvespa) (0.2.0)\n",
            "Requirement already satisfied: exceptiongroup in /usr/local/lib/python3.10/dist-packages (from anyio->httpx[http2]->pyvespa) (1.2.2)\n"
          ]
        }
      ],
      "source": [
        "!sudo apt-get install poppler-utils -y\n",
        "!pip3 install colpali-engine==0.3.1 pdf2image pypdf pyvespa vespacli requests numpy tqdm pdfminer.six"
      ]
    },
    {
      "cell_type": "code",
      "execution_count": null,
      "metadata": {
        "id": "qKFOvdo5nCVl"
      },
      "outputs": [],
      "source": [
        "import torch\n",
        "from torch.utils.data import DataLoader\n",
        "from tqdm import tqdm\n",
        "from io import BytesIO\n",
        "from colpali_engine.models import ColQwen2, ColQwen2Processor"
      ]
    },
    {
      "cell_type": "markdown",
      "metadata": {
        "id": "yGfNhRP4RKBJ"
      },
      "source": [
        "### Load the model\n",
        "\n",
        "We use device map auto to load the model on the available GPU if available, otherwise on the CPU or MPS if available.\n"
      ]
    },
    {
      "cell_type": "code",
      "execution_count": null,
      "metadata": {
        "colab": {
          "base_uri": "https://localhost:8080/",
          "height": 49,
          "referenced_widgets": [
            "b864bef0848e450095bc9c791b6cd6b3",
            "2b8cb6354cb24830805b87da3b84078c",
            "71dcd92de29b41e5b5b58f8d04ddc328",
            "d7f6ad5f26be4eccaaa8e1c5054ae922",
            "dc64eea5ad314574acd7a8fa00c06db0",
            "f679cbcc1f8a47fb9e0cd91f6ecc6bf2",
            "92dfb0610ed04531be29aa886313592b",
            "efa889deafff4081b46dc4a4c04e0394",
            "e836560aaa494b5fbce01e56f2f6c008",
            "40ca528313ba43839c674b34593fbf39",
            "7683dd4461c64fc9abb0886df880d487"
          ]
        },
        "id": "bpvPYA1HnMDp",
        "outputId": "d69f5281-215f-4ef7-9471-9aec0c0c48d3"
      },
      "outputs": [
        {
          "data": {
            "application/vnd.jupyter.widget-view+json": {
              "model_id": "b864bef0848e450095bc9c791b6cd6b3",
              "version_major": 2,
              "version_minor": 0
            },
            "text/plain": [
              "Loading checkpoint shards:   0%|          | 0/2 [00:00<?, ?it/s]"
            ]
          },
          "metadata": {},
          "output_type": "display_data"
        }
      ],
      "source": [
        "model_name = \"vidore/colqwen2-v0.1\"\n",
        "\n",
        "model = ColQwen2.from_pretrained(\n",
        "    model_name, torch_dtype=torch.bfloat16, device_map=\"auto\"\n",
        ")\n",
        "processor = ColQwen2Processor.from_pretrained(model_name)\n",
        "model = model.eval()"
      ]
    },
    {
      "cell_type": "markdown",
      "metadata": {
        "id": "PUqnrKWLak3O"
      },
      "source": [
        "### Working with pdfs\n",
        "\n",
        "We need to convert a PDF to an array of images. One image per page.\n",
        "We use the `pdf2image` library for this task. Secondary, we also extract the text contents of the PDF using `pypdf`.\n",
        "\n",
        "NOTE: This step requires that you have `poppler` installed on your system. Read more in [pdf2image](https://pdf2image.readthedocs.io/en/latest/installation.html) docs.\n"
      ]
    },
    {
      "cell_type": "code",
      "execution_count": null,
      "metadata": {
        "id": "_-1v-qZ32OgW"
      },
      "outputs": [],
      "source": [
        "from pdfminer.high_level import extract_pages\n",
        "from pdfminer.layout import LTTextContainer\n",
        "from pdf2image import convert_from_path\n",
        "\n",
        "def get_pdf_images(pdf_path):\n",
        "    page_texts = []\n",
        "\n",
        "    # Extract text from each page using pdfminer.six\n",
        "    for page_layout in extract_pages(pdf_path):\n",
        "        page_text = ''\n",
        "        for element in page_layout:\n",
        "            if isinstance(element, LTTextContainer):\n",
        "                page_text += element.get_text()\n",
        "        page_texts.append(page_text)\n",
        "\n",
        "    # Convert PDF pages to images\n",
        "    images = convert_from_path(pdf_path)\n",
        "\n",
        "    # Ensure each page has a corresponding image\n",
        "    assert len(images) == len(page_texts)\n",
        "\n",
        "    return images, page_texts\n"
      ]
    },
    {
      "cell_type": "markdown",
      "metadata": {
        "id": "kwWjeCeiALmw"
      },
      "source": [
        "Upload the pdf files\n"
      ]
    },
    {
      "cell_type": "code",
      "execution_count": null,
      "metadata": {
        "colab": {
          "base_uri": "https://localhost:8080/",
          "height": 74
        },
        "id": "BSzHaV0ABeEj",
        "outputId": "1c2f26ca-b4eb-4f61-9135-dff9aca87f04"
      },
      "outputs": [
        {
          "data": {
            "text/html": [
              "\n",
              "     <input type=\"file\" id=\"files-f40fe607-6d68-4c04-8bb5-9ae3613f264d\" name=\"files[]\" multiple disabled\n",
              "        style=\"border:none\" />\n",
              "     <output id=\"result-f40fe607-6d68-4c04-8bb5-9ae3613f264d\">\n",
              "      Upload widget is only available when the cell has been executed in the\n",
              "      current browser session. Please rerun this cell to enable.\n",
              "      </output>\n",
              "      <script>// Copyright 2017 Google LLC\n",
              "//\n",
              "// Licensed under the Apache License, Version 2.0 (the \"License\");\n",
              "// you may not use this file except in compliance with the License.\n",
              "// You may obtain a copy of the License at\n",
              "//\n",
              "//      http://www.apache.org/licenses/LICENSE-2.0\n",
              "//\n",
              "// Unless required by applicable law or agreed to in writing, software\n",
              "// distributed under the License is distributed on an \"AS IS\" BASIS,\n",
              "// WITHOUT WARRANTIES OR CONDITIONS OF ANY KIND, either express or implied.\n",
              "// See the License for the specific language governing permissions and\n",
              "// limitations under the License.\n",
              "\n",
              "/**\n",
              " * @fileoverview Helpers for google.colab Python module.\n",
              " */\n",
              "(function(scope) {\n",
              "function span(text, styleAttributes = {}) {\n",
              "  const element = document.createElement('span');\n",
              "  element.textContent = text;\n",
              "  for (const key of Object.keys(styleAttributes)) {\n",
              "    element.style[key] = styleAttributes[key];\n",
              "  }\n",
              "  return element;\n",
              "}\n",
              "\n",
              "// Max number of bytes which will be uploaded at a time.\n",
              "const MAX_PAYLOAD_SIZE = 100 * 1024;\n",
              "\n",
              "function _uploadFiles(inputId, outputId) {\n",
              "  const steps = uploadFilesStep(inputId, outputId);\n",
              "  const outputElement = document.getElementById(outputId);\n",
              "  // Cache steps on the outputElement to make it available for the next call\n",
              "  // to uploadFilesContinue from Python.\n",
              "  outputElement.steps = steps;\n",
              "\n",
              "  return _uploadFilesContinue(outputId);\n",
              "}\n",
              "\n",
              "// This is roughly an async generator (not supported in the browser yet),\n",
              "// where there are multiple asynchronous steps and the Python side is going\n",
              "// to poll for completion of each step.\n",
              "// This uses a Promise to block the python side on completion of each step,\n",
              "// then passes the result of the previous step as the input to the next step.\n",
              "function _uploadFilesContinue(outputId) {\n",
              "  const outputElement = document.getElementById(outputId);\n",
              "  const steps = outputElement.steps;\n",
              "\n",
              "  const next = steps.next(outputElement.lastPromiseValue);\n",
              "  return Promise.resolve(next.value.promise).then((value) => {\n",
              "    // Cache the last promise value to make it available to the next\n",
              "    // step of the generator.\n",
              "    outputElement.lastPromiseValue = value;\n",
              "    return next.value.response;\n",
              "  });\n",
              "}\n",
              "\n",
              "/**\n",
              " * Generator function which is called between each async step of the upload\n",
              " * process.\n",
              " * @param {string} inputId Element ID of the input file picker element.\n",
              " * @param {string} outputId Element ID of the output display.\n",
              " * @return {!Iterable<!Object>} Iterable of next steps.\n",
              " */\n",
              "function* uploadFilesStep(inputId, outputId) {\n",
              "  const inputElement = document.getElementById(inputId);\n",
              "  inputElement.disabled = false;\n",
              "\n",
              "  const outputElement = document.getElementById(outputId);\n",
              "  outputElement.innerHTML = '';\n",
              "\n",
              "  const pickedPromise = new Promise((resolve) => {\n",
              "    inputElement.addEventListener('change', (e) => {\n",
              "      resolve(e.target.files);\n",
              "    });\n",
              "  });\n",
              "\n",
              "  const cancel = document.createElement('button');\n",
              "  inputElement.parentElement.appendChild(cancel);\n",
              "  cancel.textContent = 'Cancel upload';\n",
              "  const cancelPromise = new Promise((resolve) => {\n",
              "    cancel.onclick = () => {\n",
              "      resolve(null);\n",
              "    };\n",
              "  });\n",
              "\n",
              "  // Wait for the user to pick the files.\n",
              "  const files = yield {\n",
              "    promise: Promise.race([pickedPromise, cancelPromise]),\n",
              "    response: {\n",
              "      action: 'starting',\n",
              "    }\n",
              "  };\n",
              "\n",
              "  cancel.remove();\n",
              "\n",
              "  // Disable the input element since further picks are not allowed.\n",
              "  inputElement.disabled = true;\n",
              "\n",
              "  if (!files) {\n",
              "    return {\n",
              "      response: {\n",
              "        action: 'complete',\n",
              "      }\n",
              "    };\n",
              "  }\n",
              "\n",
              "  for (const file of files) {\n",
              "    const li = document.createElement('li');\n",
              "    li.append(span(file.name, {fontWeight: 'bold'}));\n",
              "    li.append(span(\n",
              "        `(${file.type || 'n/a'}) - ${file.size} bytes, ` +\n",
              "        `last modified: ${\n",
              "            file.lastModifiedDate ? file.lastModifiedDate.toLocaleDateString() :\n",
              "                                    'n/a'} - `));\n",
              "    const percent = span('0% done');\n",
              "    li.appendChild(percent);\n",
              "\n",
              "    outputElement.appendChild(li);\n",
              "\n",
              "    const fileDataPromise = new Promise((resolve) => {\n",
              "      const reader = new FileReader();\n",
              "      reader.onload = (e) => {\n",
              "        resolve(e.target.result);\n",
              "      };\n",
              "      reader.readAsArrayBuffer(file);\n",
              "    });\n",
              "    // Wait for the data to be ready.\n",
              "    let fileData = yield {\n",
              "      promise: fileDataPromise,\n",
              "      response: {\n",
              "        action: 'continue',\n",
              "      }\n",
              "    };\n",
              "\n",
              "    // Use a chunked sending to avoid message size limits. See b/62115660.\n",
              "    let position = 0;\n",
              "    do {\n",
              "      const length = Math.min(fileData.byteLength - position, MAX_PAYLOAD_SIZE);\n",
              "      const chunk = new Uint8Array(fileData, position, length);\n",
              "      position += length;\n",
              "\n",
              "      const base64 = btoa(String.fromCharCode.apply(null, chunk));\n",
              "      yield {\n",
              "        response: {\n",
              "          action: 'append',\n",
              "          file: file.name,\n",
              "          data: base64,\n",
              "        },\n",
              "      };\n",
              "\n",
              "      let percentDone = fileData.byteLength === 0 ?\n",
              "          100 :\n",
              "          Math.round((position / fileData.byteLength) * 100);\n",
              "      percent.textContent = `${percentDone}% done`;\n",
              "\n",
              "    } while (position < fileData.byteLength);\n",
              "  }\n",
              "\n",
              "  // All done.\n",
              "  yield {\n",
              "    response: {\n",
              "      action: 'complete',\n",
              "    }\n",
              "  };\n",
              "}\n",
              "\n",
              "scope.google = scope.google || {};\n",
              "scope.google.colab = scope.google.colab || {};\n",
              "scope.google.colab._files = {\n",
              "  _uploadFiles,\n",
              "  _uploadFilesContinue,\n",
              "};\n",
              "})(self);\n",
              "</script> "
            ],
            "text/plain": [
              "<IPython.core.display.HTML object>"
            ]
          },
          "metadata": {},
          "output_type": "display_data"
        },
        {
          "name": "stdout",
          "output_type": "stream",
          "text": [
            "Saving MiR 24V Battery Troubleshooting and Technical Guide 2.1_en.pdf to MiR 24V Battery Troubleshooting and Technical Guide 2.1_en.pdf\n"
          ]
        }
      ],
      "source": [
        "from google.colab import files\n",
        "uploaded = files.upload()"
      ]
    },
    {
      "cell_type": "code",
      "execution_count": null,
      "metadata": {
        "colab": {
          "base_uri": "https://localhost:8080/"
        },
        "id": "j0OTe4STjC4M",
        "outputId": "f65579a0-31f1-4b8b-9aba-84b4f01f76f9"
      },
      "outputs": [
        {
          "name": "stdout",
          "output_type": "stream",
          "text": [
            "Mounted at /content/drive/\n"
          ]
        }
      ],
      "source": [
        "from google.colab import drive\n",
        "drive.mount('/content/drive/')"
      ]
    },
    {
      "cell_type": "code",
      "execution_count": null,
      "metadata": {
        "id": "kZIGixLBRyEi"
      },
      "outputs": [],
      "source": [
        "sample_pdfs = [\n",
        "    {\n",
        "        \"title\": \"MiR200 Hook quick start\",\n",
        "        \"path\": \"MiR200 Hook quick start 1.1_en.pdf\",\n",
        "    },{\n",
        "        \"title\": \"MiR200 Hook user guide\",\n",
        "        \"path\": \"MiR200 Hook user guide 3.1_en.pdf\",\n",
        "    },\n",
        "    {\n",
        "        \"title\": \"MiR200 Quick Start\",\n",
        "        \"path\": \"MiR200 Quick Start 2.3_en.pdf\",\n",
        "    },\n",
        "    {\n",
        "        \"title\": \"MiR200 User Guide\",\n",
        "        \"path\": \"MiR200 User Guide 3.3_en.pdf\",\n",
        "    },\n",
        "]"
      ]
    },
    {
      "cell_type": "markdown",
      "metadata": {
        "id": "UcCFc4GMALmx"
      },
      "source": [
        "Now we can convert the PDFs to images and also extract the text content.\n"
      ]
    },
    {
      "cell_type": "code",
      "execution_count": null,
      "metadata": {
        "id": "YaDInfmT3Tbu"
      },
      "outputs": [],
      "source": [
        "for pdf in sample_pdfs:\n",
        "    page_images, page_texts = get_pdf_images(\"/content/drive/MyDrive/MiR200/\"+pdf[\"path\"])\n",
        "    pdf[\"images\"] = page_images\n",
        "    pdf[\"texts\"] = page_texts"
      ]
    },
    {
      "cell_type": "markdown",
      "metadata": {
        "id": "b3vBUFwATIqk"
      },
      "source": [
        "Let us look at the extracted image of the first PDF page. This is the document side input to ColPali, one image per page.\n"
      ]
    },
    {
      "cell_type": "code",
      "execution_count": null,
      "metadata": {
        "colab": {
          "base_uri": "https://localhost:8080/",
          "height": 180
        },
        "id": "DGAXQ-0E3jQS",
        "outputId": "53cebf3c-4080-4b35-f0cf-d77d9fed4447"
      },
      "outputs": [
        {
          "ename": "KeyError",
          "evalue": "'images'",
          "output_type": "error",
          "traceback": [
            "\u001b[0;31m---------------------------------------------------------------------------\u001b[0m",
            "\u001b[0;31mKeyError\u001b[0m                                  Traceback (most recent call last)",
            "\u001b[0;32m<ipython-input-33-6f5e3f80efaa>\u001b[0m in \u001b[0;36m<cell line: 14>\u001b[0;34m()\u001b[0m\n\u001b[1;32m     12\u001b[0m \u001b[0;34m\u001b[0m\u001b[0m\n\u001b[1;32m     13\u001b[0m \u001b[0;34m\u001b[0m\u001b[0m\n\u001b[0;32m---> 14\u001b[0;31m \u001b[0mdisplay\u001b[0m\u001b[0;34m(\u001b[0m\u001b[0mresize_image\u001b[0m\u001b[0;34m(\u001b[0m\u001b[0msample_pdfs\u001b[0m\u001b[0;34m[\u001b[0m\u001b[0;36m0\u001b[0m\u001b[0;34m]\u001b[0m\u001b[0;34m[\u001b[0m\u001b[0;34m\"images\"\u001b[0m\u001b[0;34m]\u001b[0m\u001b[0;34m[\u001b[0m\u001b[0;36m15\u001b[0m\u001b[0;34m]\u001b[0m\u001b[0;34m)\u001b[0m\u001b[0;34m)\u001b[0m\u001b[0;34m\u001b[0m\u001b[0;34m\u001b[0m\u001b[0m\n\u001b[0m",
            "\u001b[0;31mKeyError\u001b[0m: 'images'"
          ]
        }
      ],
      "source": [
        "from IPython.display import display\n",
        "\n",
        "\n",
        "def resize_image(image, max_height=800):\n",
        "    width, height = image.size\n",
        "    if height > max_height:\n",
        "        ratio = max_height / height\n",
        "        new_width = int(width * ratio)\n",
        "        new_height = int(height * ratio)\n",
        "        return image.resize((new_width, new_height))\n",
        "    return image\n",
        "\n",
        "\n",
        "display(resize_image(sample_pdfs[0][\"images\"][15]))"
      ]
    },
    {
      "cell_type": "markdown",
      "metadata": {
        "id": "ij7B9-vRALmx"
      },
      "source": [
        "Let us also look at the extracted text content of the first PDF page.\n"
      ]
    },
    {
      "cell_type": "code",
      "execution_count": null,
      "metadata": {
        "colab": {
          "base_uri": "https://localhost:8080/"
        },
        "id": "ufCJ1mV5ALmy",
        "outputId": "dd061b85-68c8-44ea-ec49-f47026c3b628"
      },
      "outputs": [
        {
          "name": "stdout",
          "output_type": "stream",
          "text": [
            "3. States\n",
            "l For MiR100 HW 2.0–2.2 and MiR200 HW 1.1–1.3, the adapter cable in the retrofit kit connects\n",
            "the two pins via the CAN bus connection—see \"Battery adapter cable 450687 and 450681 for\n",
            "replacement batteries\" on page 37. Additionally, a host detect wire must be installed also to\n",
            "connect the two pins. If this wire is not installed, the battery does not enter Active state even if\n",
            "the battery cable is connected to the robot. To install this wire, see the guide How to install the\n",
            "host detect wire W318a in MiR100 and MiR200. You can find this guide on MiR Support Portal.\n",
            "For the battery to be active, the following requirements must be met:\n",
            "l The battery adapter cable must be connected to the battery and robot.\n",
            "l The host detect cable must be installed—see \"Host detect cable W318a for replacement\n",
            "batteries\" on page 38.\n",
            "l The F1 relay must be on—see Figure 3.2.\n",
            "l For MiR100 HW 3.0–5.0 and MiR200 HW 2.0–5.0, the adapter cable in the retrofit kit connects\n",
            "the two pins via the CAN bus connection—see \"Battery adapter cable 450687 and 450681 for\n",
            "replacement batteries\" on page 37. For the battery to be active, the following requirements\n",
            "must be met: \n",
            "l The battery adapter cable must be connected to the battery and robot.\n",
            "l The F1 relay must be on—see Figure 3.2.\n",
            "l For MiR100 and MiR200 HW 6.0 and higher, the battery cable connects the two pins without\n",
            "using an adapter cable. For the battery to be active, the following requirements must be met: \n",
            "l The battery cable must be connected to the battery.\n",
            "l The F1 relay must be on—see Figure 3.2.\n",
            "For the battery to be Active, the F1 relay must be on. You must also turn on the other two\n",
            "relays for the robot to work, but only F1 is necessary to activate the battery. When turning on\n",
            "the relays, always start with the outer relay (F1).\n",
            "Figure 3.2 For the battery to be Active, the F1 relay must be on\n",
            "MiR 24V Battery Troubleshooting and Technical Guide (en) 06/2024 - v.2.1\n",
            "©Copyright 2022–2024: Mobile Industrial Robots A/S.\n",
            "16\n",
            "\n"
          ]
        }
      ],
      "source": [
        "print(sample_pdfs[0][\"texts\"][15])"
      ]
    },
    {
      "cell_type": "markdown",
      "metadata": {
        "id": "HboG3ETjALmy"
      },
      "source": [
        "Now we use the ColPali model to generate embeddings of the images.\n"
      ]
    },
    {
      "cell_type": "code",
      "execution_count": null,
      "metadata": {
        "colab": {
          "base_uri": "https://localhost:8080/"
        },
        "id": "NRp3P9SlTK97",
        "outputId": "c77582d5-7d91-403f-a610-80c2ea9e12ec"
      },
      "outputs": [
        {
          "name": "stderr",
          "output_type": "stream",
          "text": [
            "100%|██████████| 10/10 [01:56<00:00, 11.66s/it]\n",
            "100%|██████████| 94/94 [17:51<00:00, 11.40s/it]\n",
            "100%|██████████| 20/20 [03:49<00:00, 11.50s/it]\n",
            "100%|██████████| 93/93 [17:39<00:00, 11.39s/it]\n"
          ]
        }
      ],
      "source": [
        "for pdf in sample_pdfs:\n",
        "    page_embeddings = []\n",
        "    dataloader = DataLoader(\n",
        "        pdf[\"images\"],\n",
        "        batch_size=2,\n",
        "        shuffle=False,\n",
        "        collate_fn=lambda x: processor.process_images(x),\n",
        "    )\n",
        "\n",
        "    for batch_doc in tqdm(dataloader):\n",
        "        with torch.no_grad():\n",
        "            batch_doc = {k: v.to(model.device) for k, v in batch_doc.items()}\n",
        "            embeddings_doc = model(**batch_doc)\n",
        "            page_embeddings.extend(list(torch.unbind(embeddings_doc.to(\"cpu\"))))\n",
        "    pdf[\"embeddings\"] = page_embeddings"
      ]
    },
    {
      "cell_type": "code",
      "execution_count": null,
      "metadata": {
        "colab": {
          "base_uri": "https://localhost:8080/"
        },
        "id": "auJCB5r0DFkH",
        "outputId": "3bd7e8bb-92f9-494e-e0c0-dc82d71eda66"
      },
      "outputs": [
        {
          "name": "stdout",
          "output_type": "stream",
          "text": [
            "12250240787110954365\n"
          ]
        }
      ],
      "source": [
        "import base64\n",
        "from PIL import Image\n",
        "import torch\n",
        "\n",
        "def encode_base64_image(image):\n",
        "    buffered = BytesIO()\n",
        "    image.save(buffered, format=\"JPEG\")\n",
        "    return str(base64.b64encode(buffered.getvalue()), \"utf-8\")\n",
        "\n",
        "\n",
        "def decode_base64_image(base64_string):\n",
        "    # Decode the base64 string into bytes\n",
        "    image_data = base64.b64decode(base64_string)\n",
        "\n",
        "    # Convert the bytes back into an image\n",
        "    buffered = BytesIO(image_data)\n",
        "    image = Image.open(buffered)\n",
        "\n",
        "    return image\n",
        "\n",
        "def unique_positive_hash_64bit(value):\n",
        "    hash_value = hash(value)\n",
        "    unsigned_hash = hash_value & ((1 << 64) - 1)  # Treat as 64-bit unsigned\n",
        "    return unsigned_hash\n",
        "\n",
        "print(unique_positive_hash_64bit(\"example\"))  # Unique, positive integer within 64-bit range\n",
        "\n"
      ]
    },
    {
      "cell_type": "code",
      "execution_count": null,
      "metadata": {
        "id": "akeBbGCXH9Tr"
      },
      "outputs": [],
      "source": [
        "import numpy as np\n",
        "\n",
        "documents = []\n",
        "for pdf in sample_pdfs:\n",
        "    path = pdf[\"path\"]\n",
        "    title = pdf[\"title\"]\n",
        "    for page_number, (page_text, embedding, image) in enumerate(\n",
        "        zip(pdf[\"texts\"], pdf[\"embeddings\"], pdf[\"images\"])\n",
        "    ):\n",
        "        base_64_image = encode_base64_image(resize_image(image, 640))\n",
        "        multivector = embedding.cpu().float().numpy().tolist()\n",
        "        documents.append(\n",
        "                models.PointStruct(\n",
        "                    id=unique_positive_hash_64bit(path + str(page_number)),  # we just use the index as the ID\n",
        "                    vector=multivector,  # This is now a list of vectors\n",
        "                    payload={\n",
        "                        \"path\": path,\n",
        "                        \"title\": title,\n",
        "                        \"page_number\": page_number,\n",
        "                        \"image\": base_64_image,\n",
        "                        \"text\": page_text,\n",
        "                    },\n",
        "                )\n",
        "            )\n"
      ]
    },
    {
      "cell_type": "code",
      "execution_count": null,
      "metadata": {
        "colab": {
          "base_uri": "https://localhost:8080/"
        },
        "id": "2sxMxyKUnQfP",
        "outputId": "2fc2f985-781d-4e66-b0a9-7bc9ac7be817"
      },
      "outputs": [
        {
          "name": "stdout",
          "output_type": "stream",
          "text": [
            "Collecting uv\n",
            "  Downloading uv-0.4.26-py3-none-manylinux_2_17_x86_64.manylinux2014_x86_64.whl.metadata (11 kB)\n",
            "Downloading uv-0.4.26-py3-none-manylinux_2_17_x86_64.manylinux2014_x86_64.whl (13.7 MB)\n",
            "\u001b[?25l   \u001b[90m━━━━━━━━━━━━━━━━━━━━━━━━━━━━━━━━━━━━━━━━\u001b[0m \u001b[32m0.0/13.7 MB\u001b[0m \u001b[31m?\u001b[0m eta \u001b[36m-:--:--\u001b[0m\r\u001b[2K   \u001b[91m━━━\u001b[0m\u001b[91m╸\u001b[0m\u001b[90m━━━━━━━━━━━━━━━━━━━━━━━━━━━━━━━━━━━━\u001b[0m \u001b[32m1.4/13.7 MB\u001b[0m \u001b[31m40.5 MB/s\u001b[0m eta \u001b[36m0:00:01\u001b[0m\r\u001b[2K   \u001b[91m━━━━━━━━━━━━━━━━\u001b[0m\u001b[91m╸\u001b[0m\u001b[90m━━━━━━━━━━━━━━━━━━━━━━━\u001b[0m \u001b[32m5.8/13.7 MB\u001b[0m \u001b[31m79.3 MB/s\u001b[0m eta \u001b[36m0:00:01\u001b[0m\r\u001b[2K   \u001b[91m━━━━━━━━━━━━━━━━━━━━━━━━━━━━━\u001b[0m\u001b[90m╺\u001b[0m\u001b[90m━━━━━━━━━━\u001b[0m \u001b[32m10.0/13.7 MB\u001b[0m \u001b[31m91.8 MB/s\u001b[0m eta \u001b[36m0:00:01\u001b[0m\r\u001b[2K   \u001b[91m━━━━━━━━━━━━━━━━━━━━━━━━━━━━━━━━━━━━━━━\u001b[0m\u001b[91m╸\u001b[0m \u001b[32m13.7/13.7 MB\u001b[0m \u001b[31m118.5 MB/s\u001b[0m eta \u001b[36m0:00:01\u001b[0m\r\u001b[2K   \u001b[91m━━━━━━━━━━━━━━━━━━━━━━━━━━━━━━━━━━━━━━━\u001b[0m\u001b[91m╸\u001b[0m \u001b[32m13.7/13.7 MB\u001b[0m \u001b[31m118.5 MB/s\u001b[0m eta \u001b[36m0:00:01\u001b[0m\r\u001b[2K   \u001b[90m━━━━━━━━━━━━━━━━━━━━━━━━━━━━━━━━━━━━━━━━\u001b[0m \u001b[32m13.7/13.7 MB\u001b[0m \u001b[31m64.9 MB/s\u001b[0m eta \u001b[36m0:00:00\u001b[0m\n",
            "\u001b[?25hInstalling collected packages: uv\n",
            "Successfully installed uv-0.4.26\n",
            "\u001b[2mUsing Python 3.10.12 environment at /usr\u001b[0m\n",
            "\u001b[2K\u001b[2mResolved \u001b[1m73 packages\u001b[0m \u001b[2min 885ms\u001b[0m\u001b[0m\n",
            "\u001b[2K⠙ Preparing packages... (0/10)\n",
            "\u001b[2K\u001b[1A⠙ Preparing packages... (0/10)\n",
            "\u001b[2K\u001b[1A⠙ Preparing packages... (0/10)\n",
            "portalocker ------------------------------     0 B/17.99 KiB\n",
            "\u001b[2K\u001b[2A⠙ Preparing packages... (0/10)\n",
            "portalocker ------------------------------ 14.91 KiB/17.99 KiB\n",
            "\u001b[2K\u001b[2A⠙ Preparing packages... (0/10)\n",
            "portalocker ------------------------------ 14.91 KiB/17.99 KiB\n",
            "\u001b[2K\u001b[2A⠙ Preparing packages... (0/10)\n",
            "portalocker ------------------------------ 14.91 KiB/17.99 KiB\n",
            "\u001b[2K\u001b[2A⠙ Preparing packages... (0/10)\n",
            "portalocker ------------------------------ 14.91 KiB/17.99 KiB\n",
            "\u001b[2K\u001b[2A⠙ Preparing packages... (0/10)\n",
            "portalocker ------------------------------ 14.91 KiB/17.99 KiB\n",
            "\u001b[2K\u001b[2A⠙ Preparing packages... (0/10)\n",
            "portalocker ------------------------------ 14.91 KiB/17.99 KiB\n",
            "dill       ------------------------------     0 B/113.53 KiB\n",
            "\u001b[2K\u001b[3A⠙ Preparing packages... (0/10)\n",
            "portalocker ------------------------------ 14.91 KiB/17.99 KiB\n",
            "dill       ------------------------------     0 B/113.53 KiB\n",
            "protobuf   ------------------------------ 78.54 KiB/309.20 KiB\n",
            "\u001b[2K\u001b[4A⠙ Preparing packages... (0/10)\n",
            "portalocker ------------------------------ 14.91 KiB/17.99 KiB\n",
            "dill       ------------------------------     0 B/113.53 KiB\n",
            "protobuf   ------------------------------ 78.54 KiB/309.20 KiB\n",
            "datasets   ------------------------------     0 B/461.60 KiB\n",
            "\u001b[2K\u001b[5A⠙ Preparing packages... (0/10)\n",
            "stamina    ------------------------------     0 B/16.06 KiB\n",
            "portalocker ------------------------------ 14.91 KiB/17.99 KiB\n",
            "dill       ------------------------------     0 B/113.53 KiB\n",
            "protobuf   ------------------------------ 78.54 KiB/309.20 KiB\n",
            "datasets   ------------------------------     0 B/461.60 KiB\n",
            "\u001b[2K\u001b[6A⠙ Preparing packages... (0/10)\n",
            "stamina    ------------------------------     0 B/16.06 KiB\n",
            "portalocker ------------------------------ 14.91 KiB/17.99 KiB\n",
            "dill       ------------------------------     0 B/113.53 KiB\n",
            "protobuf   ------------------------------ 94.54 KiB/309.20 KiB\n",
            "datasets   ------------------------------     0 B/461.60 KiB\n",
            "\u001b[2K\u001b[6A⠙ Preparing packages... (0/10)\n",
            "stamina    ------------------------------     0 B/16.06 KiB\n",
            "portalocker ------------------------------ 17.99 KiB/17.99 KiB\n",
            "dill       ------------------------------     0 B/113.53 KiB\n",
            "protobuf   ------------------------------ 94.54 KiB/309.20 KiB\n",
            "datasets   ------------------------------     0 B/461.60 KiB\n",
            "\u001b[2K\u001b[6A⠙ Preparing packages... (0/10)\n",
            "stamina    ------------------------------     0 B/16.06 KiB\n",
            "portalocker ------------------------------ 17.99 KiB/17.99 KiB\n",
            "dill       ------------------------------     0 B/113.53 KiB\n",
            "protobuf   ------------------------------ 110.54 KiB/309.20 KiB\n",
            "datasets   ------------------------------     0 B/461.60 KiB\n",
            "\u001b[2K\u001b[6A⠙ Preparing packages... (0/10)\n",
            "stamina    ------------------------------     0 B/16.06 KiB\n",
            "portalocker ------------------------------ 17.99 KiB/17.99 KiB\n",
            "dill       ------------------------------     0 B/113.53 KiB\n",
            "protobuf   ------------------------------ 126.54 KiB/309.20 KiB\n",
            "datasets   ------------------------------     0 B/461.60 KiB\n",
            "\u001b[2K\u001b[6A⠙ Preparing packages... (0/10)\n",
            "stamina    ------------------------------     0 B/16.06 KiB\n",
            "portalocker ------------------------------ 17.99 KiB/17.99 KiB\n",
            "dill       ------------------------------     0 B/113.53 KiB\n",
            "protobuf   ------------------------------ 142.54 KiB/309.20 KiB\n",
            "datasets   ------------------------------     0 B/461.60 KiB\n",
            "\u001b[2K\u001b[6A⠙ Preparing packages... (0/10)\n",
            "stamina    ------------------------------     0 B/16.06 KiB\n",
            "dill       ------------------------------ 16.00 KiB/113.53 KiB\n",
            "protobuf   ------------------------------ 142.54 KiB/309.20 KiB\n",
            "datasets   ------------------------------     0 B/461.60 KiB\n",
            "\u001b[2K\u001b[5A⠙ Preparing packages... (0/10)\n",
            "dill       ------------------------------ 64.00 KiB/113.53 KiB\n",
            "multiprocess ------------------------------     0 B/131.66 KiB\n",
            "xxhash     ------------------------------ 16.00 KiB/189.60 KiB\n",
            "qdrant-client ------------------------------ 14.11 KiB/260.15 KiB\n",
            "protobuf   ------------------------------ 174.54 KiB/309.20 KiB\n",
            "datasets   ------------------------------ 32.00 KiB/461.60 KiB\n",
            "grpcio-tools ------------------------------ 16.00 KiB/2.24 MiB\n",
            "\u001b[2K\u001b[8A⠙ Preparing packages... (0/10)\n",
            "dill       ------------------------------ 80.00 KiB/113.53 KiB\n",
            "xxhash     ------------------------------ 189.60 KiB/189.60 KiB\n",
            "qdrant-client ------------------------------ 142.11 KiB/260.15 KiB\n",
            "protobuf   ------------------------------ 190.36 KiB/309.20 KiB\n",
            "datasets   ------------------------------ 79.82 KiB/461.60 KiB\n",
            "grpcio-tools ------------------------------ 288.00 KiB/2.24 MiB\n",
            "\u001b[2K\u001b[7A⠙ Preparing packages... (0/10)\n",
            "dill       ------------------------------ 80.00 KiB/113.53 KiB\n",
            "xxhash     ------------------------------ 189.60 KiB/189.60 KiB\n",
            "qdrant-client ------------------------------ 142.11 KiB/260.15 KiB\n",
            "protobuf   ------------------------------ 206.36 KiB/309.20 KiB\n",
            "datasets   ------------------------------ 79.82 KiB/461.60 KiB\n",
            "grpcio-tools ------------------------------ 288.00 KiB/2.24 MiB\n",
            "\u001b[2K\u001b[7A⠙ Preparing packages... (0/10)\n",
            "dill       ------------------------------ 80.00 KiB/113.53 KiB\n",
            "xxhash     ------------------------------ 189.60 KiB/189.60 KiB\n",
            "qdrant-client ------------------------------ 142.11 KiB/260.15 KiB\n",
            "protobuf   ------------------------------ 238.43 KiB/309.20 KiB\n",
            "datasets   ------------------------------ 95.82 KiB/461.60 KiB\n",
            "grpcio-tools ------------------------------ 2.00 MiB/2.24 MiB\n",
            "\u001b[2K\u001b[7A⠙ Preparing packages... (0/10)\n",
            "dill       ------------------------------ 80.00 KiB/113.53 KiB\n",
            "xxhash     ------------------------------ 189.60 KiB/189.60 KiB\n",
            "qdrant-client ------------------------------ 158.11 KiB/260.15 KiB\n",
            "protobuf   ------------------------------ 254.43 KiB/309.20 KiB\n",
            "datasets   ------------------------------ 127.60 KiB/461.60 KiB\n",
            "\u001b[2K\u001b[6A⠙ Preparing packages... (0/10)\n",
            "dill       ------------------------------ 80.00 KiB/113.53 KiB\n",
            "qdrant-client ------------------------------ 174.11 KiB/260.15 KiB\n",
            "protobuf   ------------------------------ 254.43 KiB/309.20 KiB\n",
            "datasets   ------------------------------ 127.60 KiB/461.60 KiB\n",
            "\u001b[2K\u001b[5A⠙ Preparing packages... (0/10)\n",
            "qdrant-client ------------------------------ 174.11 KiB/260.15 KiB\n",
            "protobuf   ------------------------------ 254.43 KiB/309.20 KiB\n",
            "datasets   ------------------------------ 127.60 KiB/461.60 KiB\n",
            "\u001b[2K\u001b[4A⠙ Preparing packages... (0/10)\n",
            "qdrant-client ------------------------------ 260.15 KiB/260.15 KiB\n",
            "protobuf   ------------------------------ 309.20 KiB/309.20 KiB\n",
            "datasets   ------------------------------ 223.82 KiB/461.60 KiB\n",
            "\u001b[2K\u001b[4A⠙ Preparing packages... (0/10)\n",
            "protobuf   ------------------------------ 309.20 KiB/309.20 KiB\n",
            "datasets   ------------------------------ 223.82 KiB/461.60 KiB\n",
            "\u001b[2K\u001b[3A⠙ Preparing packages... (0/10)\n",
            "datasets   ------------------------------ 223.82 KiB/461.60 KiB\n",
            "\u001b[2K\u001b[2A⠙ Preparing packages... (0/10)\n",
            "\u001b[2K\u001b[2mPrepared \u001b[1m10 packages\u001b[0m \u001b[2min 190ms\u001b[0m\u001b[0m\n",
            "\u001b[2mUninstalled \u001b[1m1 package\u001b[0m \u001b[2min 42ms\u001b[0m\u001b[0m\n",
            "\u001b[2K\u001b[2mInstalled \u001b[1m10 packages\u001b[0m \u001b[2min 12ms\u001b[0m\u001b[0m\n",
            " \u001b[32m+\u001b[39m \u001b[1mdatasets\u001b[0m\u001b[2m==3.0.2\u001b[0m\n",
            " \u001b[32m+\u001b[39m \u001b[1mdill\u001b[0m\u001b[2m==0.3.8\u001b[0m\n",
            " \u001b[32m+\u001b[39m \u001b[1mgrpcio-tools\u001b[0m\u001b[2m==1.64.1\u001b[0m\n",
            " \u001b[32m+\u001b[39m \u001b[1mhf-transfer\u001b[0m\u001b[2m==0.1.8\u001b[0m\n",
            " \u001b[32m+\u001b[39m \u001b[1mmultiprocess\u001b[0m\u001b[2m==0.70.16\u001b[0m\n",
            " \u001b[32m+\u001b[39m \u001b[1mportalocker\u001b[0m\u001b[2m==2.10.1\u001b[0m\n",
            " \u001b[31m-\u001b[39m \u001b[1mprotobuf\u001b[0m\u001b[2m==3.20.3\u001b[0m\n",
            " \u001b[32m+\u001b[39m \u001b[1mprotobuf\u001b[0m\u001b[2m==5.28.3\u001b[0m\n",
            " \u001b[32m+\u001b[39m \u001b[1mqdrant-client\u001b[0m\u001b[2m==1.12.0\u001b[0m\n",
            " \u001b[32m+\u001b[39m \u001b[1mstamina\u001b[0m\u001b[2m==24.3.0\u001b[0m\n",
            " \u001b[32m+\u001b[39m \u001b[1mxxhash\u001b[0m\u001b[2m==3.5.0\u001b[0m\n"
          ]
        }
      ],
      "source": [
        "!pip install uv\n",
        "!uv pip install --system colpali_engine>=0.3.1 datasets huggingface_hub[hf_transfer] qdrant-client transformers>=4.45.0 stamina rich\n",
        "from qdrant_client import QdrantClient\n",
        "from qdrant_client.http import models"
      ]
    },
    {
      "cell_type": "code",
      "execution_count": null,
      "metadata": {
        "id": "AH7mdk_qnZy9"
      },
      "outputs": [],
      "source": [
        "collection_name = \"robot-manuals\"\n",
        "QDRANT_API_KEY = \"\"\n",
        "qdrant_client = QdrantClient(\n",
        "     url=\"https://c1c6b76d-3e82-4265-8850-542922eeb4b9.us-east4-0.gcp.cloud.qdrant.io:6333/dashboard#/collections\",\n",
        "     api_key=QDRANT_API_KEY,\n",
        " )"
      ]
    },
    {
      "cell_type": "code",
      "execution_count": null,
      "metadata": {
        "id": "V_ADvUok1PB0"
      },
      "outputs": [],
      "source": [
        "vector_params = models.VectorParams(\n",
        "    size=128,\n",
        "    distance=models.Distance.COSINE,\n",
        "    multivector_config=models.MultiVectorConfig(\n",
        "        comparator=models.MultiVectorComparator.MAX_SIM\n",
        "    ),\n",
        ")"
      ]
    },
    {
      "cell_type": "code",
      "execution_count": null,
      "metadata": {
        "id": "u0iu3PQv1PJp"
      },
      "outputs": [],
      "source": [
        "scalar_quant = models.ScalarQuantizationConfig(\n",
        "    type=models.ScalarType.INT8,\n",
        "    quantile=0.99,\n",
        "    always_ram=False,\n",
        ")"
      ]
    },
    {
      "cell_type": "code",
      "execution_count": null,
      "metadata": {
        "colab": {
          "base_uri": "https://localhost:8080/"
        },
        "id": "dOwTuGwdqNai",
        "outputId": "9459187b-3161-4bd6-de4f-ce20f409f23f"
      },
      "outputs": [
        {
          "name": "stderr",
          "output_type": "stream",
          "text": [
            "<ipython-input-34-7f25da8af3e6>:1: DeprecationWarning: `recreate_collection` method is deprecated and will be removed in the future. Use `collection_exists` to check collection existence and `create_collection` instead.\n",
            "  qdrant_client.recreate_collection(\n"
          ]
        },
        {
          "data": {
            "text/plain": [
              "True"
            ]
          },
          "execution_count": 34,
          "metadata": {},
          "output_type": "execute_result"
        }
      ],
      "source": [
        "qdrant_client.recreate_collection(\n",
        "    collection_name=collection_name,  # the name of the collection\n",
        "    on_disk_payload=True,  # store the payload on disk\n",
        "    optimizers_config=models.OptimizersConfigDiff(\n",
        "        indexing_threshold=100\n",
        "    ),  # it can be useful to swith this off when doing a bulk upload and then manually trigger the indexing once the upload is done\n",
        "    vectors_config=models.VectorParams(\n",
        "        size=128,\n",
        "        distance=models.Distance.COSINE,\n",
        "        multivector_config=models.MultiVectorConfig(\n",
        "            comparator=models.MultiVectorComparator.MAX_SIM\n",
        "        ),\n",
        "        quantization_config=models.ScalarQuantization(\n",
        "            scalar=models.ScalarQuantizationConfig(\n",
        "                type=models.ScalarType.INT8,\n",
        "                quantile=0.99,\n",
        "                always_ram=True,\n",
        "            ),\n",
        "        ),\n",
        "    ),\n",
        ")"
      ]
    },
    {
      "cell_type": "code",
      "execution_count": null,
      "metadata": {
        "id": "u4zsZagwqy6f"
      },
      "outputs": [],
      "source": [
        "import stamina\n",
        "\n",
        "\n",
        "@stamina.retry(on=Exception, attempts=3)\n",
        "def upsert_to_qdrant(batch):\n",
        "    try:\n",
        "        qdrant_client.upsert(\n",
        "            collection_name=collection_name,\n",
        "            points=points,\n",
        "            wait=False,\n",
        "        )\n",
        "    except Exception as e:\n",
        "        print(f\"Error during upsert: {e}\")\n",
        "        return False\n",
        "    return True"
      ]
    },
    {
      "cell_type": "code",
      "execution_count": null,
      "metadata": {
        "colab": {
          "base_uri": "https://localhost:8080/"
        },
        "id": "Uz_eSX5Ow1_O",
        "outputId": "699ef694-41f4-4370-80fa-8cae722aa6e4"
      },
      "outputs": [
        {
          "data": {
            "text/plain": [
              "3521001740918857957"
            ]
          },
          "execution_count": 56,
          "metadata": {},
          "output_type": "execute_result"
        }
      ],
      "source": [
        "documents[0].id\n"
      ]
    },
    {
      "cell_type": "code",
      "execution_count": null,
      "metadata": {
        "colab": {
          "base_uri": "https://localhost:8080/"
        },
        "id": "ScvxmQQAtQj2",
        "outputId": "bc1ff823-d208-4153-defb-355a17578fc8"
      },
      "outputs": [
        {
          "name": "stderr",
          "output_type": "stream",
          "text": [
            "Upserting Progress: 100%|██████████| 432/432 [01:25<00:00,  5.08it/s]"
          ]
        },
        {
          "name": "stdout",
          "output_type": "stream",
          "text": [
            "Upserting complete!\n"
          ]
        },
        {
          "name": "stderr",
          "output_type": "stream",
          "text": [
            "\n"
          ]
        }
      ],
      "source": [
        "batch_size = 6  # Adjust based on your GPU memory constraints\n",
        "\n",
        "# Use tqdm to create a progress bar\n",
        "with tqdm(total=len(documents), desc=\"Upserting Progress\") as pbar:\n",
        "    for i in range(0, len(documents), batch_size):\n",
        "        points = documents[i : i + batch_size]\n",
        "\n",
        "        # Upload points to Qdrant\n",
        "        try:\n",
        "            upsert_to_qdrant(points)\n",
        "        # clown level error handling here 🤡\n",
        "        except Exception as e:\n",
        "            print(f\"Error during upsert: {e}\")\n",
        "            continue\n",
        "\n",
        "        # Update the progress bar\n",
        "        pbar.update(batch_size)\n",
        "\n",
        "print(\"Upserting complete!\")"
      ]
    }
  ],
  "metadata": {
    "accelerator": "GPU",
    "colab": {
      "gpuType": "T4",
      "provenance": []
    },
    "kernelspec": {
      "display_name": "Python 3",
      "name": "python3"
    },
    "language_info": {
      "codemirror_mode": {
        "name": "ipython",
        "version": 3
      },
      "file_extension": ".py",
      "mimetype": "text/x-python",
      "name": "python",
      "nbconvert_exporter": "python",
      "pygments_lexer": "ipython3",
      "version": "3.11.10"
    },
    "widgets": {
      "application/vnd.jupyter.widget-state+json": {
        "2b8cb6354cb24830805b87da3b84078c": {
          "model_module": "@jupyter-widgets/controls",
          "model_module_version": "1.5.0",
          "model_name": "HTMLModel",
          "state": {
            "_dom_classes": [],
            "_model_module": "@jupyter-widgets/controls",
            "_model_module_version": "1.5.0",
            "_model_name": "HTMLModel",
            "_view_count": null,
            "_view_module": "@jupyter-widgets/controls",
            "_view_module_version": "1.5.0",
            "_view_name": "HTMLView",
            "description": "",
            "description_tooltip": null,
            "layout": "IPY_MODEL_f679cbcc1f8a47fb9e0cd91f6ecc6bf2",
            "placeholder": "​",
            "style": "IPY_MODEL_92dfb0610ed04531be29aa886313592b",
            "value": "Loading checkpoint shards: 100%"
          }
        },
        "40ca528313ba43839c674b34593fbf39": {
          "model_module": "@jupyter-widgets/base",
          "model_module_version": "1.2.0",
          "model_name": "LayoutModel",
          "state": {
            "_model_module": "@jupyter-widgets/base",
            "_model_module_version": "1.2.0",
            "_model_name": "LayoutModel",
            "_view_count": null,
            "_view_module": "@jupyter-widgets/base",
            "_view_module_version": "1.2.0",
            "_view_name": "LayoutView",
            "align_content": null,
            "align_items": null,
            "align_self": null,
            "border": null,
            "bottom": null,
            "display": null,
            "flex": null,
            "flex_flow": null,
            "grid_area": null,
            "grid_auto_columns": null,
            "grid_auto_flow": null,
            "grid_auto_rows": null,
            "grid_column": null,
            "grid_gap": null,
            "grid_row": null,
            "grid_template_areas": null,
            "grid_template_columns": null,
            "grid_template_rows": null,
            "height": null,
            "justify_content": null,
            "justify_items": null,
            "left": null,
            "margin": null,
            "max_height": null,
            "max_width": null,
            "min_height": null,
            "min_width": null,
            "object_fit": null,
            "object_position": null,
            "order": null,
            "overflow": null,
            "overflow_x": null,
            "overflow_y": null,
            "padding": null,
            "right": null,
            "top": null,
            "visibility": null,
            "width": null
          }
        },
        "71dcd92de29b41e5b5b58f8d04ddc328": {
          "model_module": "@jupyter-widgets/controls",
          "model_module_version": "1.5.0",
          "model_name": "FloatProgressModel",
          "state": {
            "_dom_classes": [],
            "_model_module": "@jupyter-widgets/controls",
            "_model_module_version": "1.5.0",
            "_model_name": "FloatProgressModel",
            "_view_count": null,
            "_view_module": "@jupyter-widgets/controls",
            "_view_module_version": "1.5.0",
            "_view_name": "ProgressView",
            "bar_style": "success",
            "description": "",
            "description_tooltip": null,
            "layout": "IPY_MODEL_efa889deafff4081b46dc4a4c04e0394",
            "max": 2,
            "min": 0,
            "orientation": "horizontal",
            "style": "IPY_MODEL_e836560aaa494b5fbce01e56f2f6c008",
            "value": 2
          }
        },
        "7683dd4461c64fc9abb0886df880d487": {
          "model_module": "@jupyter-widgets/controls",
          "model_module_version": "1.5.0",
          "model_name": "DescriptionStyleModel",
          "state": {
            "_model_module": "@jupyter-widgets/controls",
            "_model_module_version": "1.5.0",
            "_model_name": "DescriptionStyleModel",
            "_view_count": null,
            "_view_module": "@jupyter-widgets/base",
            "_view_module_version": "1.2.0",
            "_view_name": "StyleView",
            "description_width": ""
          }
        },
        "92dfb0610ed04531be29aa886313592b": {
          "model_module": "@jupyter-widgets/controls",
          "model_module_version": "1.5.0",
          "model_name": "DescriptionStyleModel",
          "state": {
            "_model_module": "@jupyter-widgets/controls",
            "_model_module_version": "1.5.0",
            "_model_name": "DescriptionStyleModel",
            "_view_count": null,
            "_view_module": "@jupyter-widgets/base",
            "_view_module_version": "1.2.0",
            "_view_name": "StyleView",
            "description_width": ""
          }
        },
        "b864bef0848e450095bc9c791b6cd6b3": {
          "model_module": "@jupyter-widgets/controls",
          "model_module_version": "1.5.0",
          "model_name": "HBoxModel",
          "state": {
            "_dom_classes": [],
            "_model_module": "@jupyter-widgets/controls",
            "_model_module_version": "1.5.0",
            "_model_name": "HBoxModel",
            "_view_count": null,
            "_view_module": "@jupyter-widgets/controls",
            "_view_module_version": "1.5.0",
            "_view_name": "HBoxView",
            "box_style": "",
            "children": [
              "IPY_MODEL_2b8cb6354cb24830805b87da3b84078c",
              "IPY_MODEL_71dcd92de29b41e5b5b58f8d04ddc328",
              "IPY_MODEL_d7f6ad5f26be4eccaaa8e1c5054ae922"
            ],
            "layout": "IPY_MODEL_dc64eea5ad314574acd7a8fa00c06db0"
          }
        },
        "d7f6ad5f26be4eccaaa8e1c5054ae922": {
          "model_module": "@jupyter-widgets/controls",
          "model_module_version": "1.5.0",
          "model_name": "HTMLModel",
          "state": {
            "_dom_classes": [],
            "_model_module": "@jupyter-widgets/controls",
            "_model_module_version": "1.5.0",
            "_model_name": "HTMLModel",
            "_view_count": null,
            "_view_module": "@jupyter-widgets/controls",
            "_view_module_version": "1.5.0",
            "_view_name": "HTMLView",
            "description": "",
            "description_tooltip": null,
            "layout": "IPY_MODEL_40ca528313ba43839c674b34593fbf39",
            "placeholder": "​",
            "style": "IPY_MODEL_7683dd4461c64fc9abb0886df880d487",
            "value": " 2/2 [00:44&lt;00:00, 21.80s/it]"
          }
        },
        "dc64eea5ad314574acd7a8fa00c06db0": {
          "model_module": "@jupyter-widgets/base",
          "model_module_version": "1.2.0",
          "model_name": "LayoutModel",
          "state": {
            "_model_module": "@jupyter-widgets/base",
            "_model_module_version": "1.2.0",
            "_model_name": "LayoutModel",
            "_view_count": null,
            "_view_module": "@jupyter-widgets/base",
            "_view_module_version": "1.2.0",
            "_view_name": "LayoutView",
            "align_content": null,
            "align_items": null,
            "align_self": null,
            "border": null,
            "bottom": null,
            "display": null,
            "flex": null,
            "flex_flow": null,
            "grid_area": null,
            "grid_auto_columns": null,
            "grid_auto_flow": null,
            "grid_auto_rows": null,
            "grid_column": null,
            "grid_gap": null,
            "grid_row": null,
            "grid_template_areas": null,
            "grid_template_columns": null,
            "grid_template_rows": null,
            "height": null,
            "justify_content": null,
            "justify_items": null,
            "left": null,
            "margin": null,
            "max_height": null,
            "max_width": null,
            "min_height": null,
            "min_width": null,
            "object_fit": null,
            "object_position": null,
            "order": null,
            "overflow": null,
            "overflow_x": null,
            "overflow_y": null,
            "padding": null,
            "right": null,
            "top": null,
            "visibility": null,
            "width": null
          }
        },
        "e836560aaa494b5fbce01e56f2f6c008": {
          "model_module": "@jupyter-widgets/controls",
          "model_module_version": "1.5.0",
          "model_name": "ProgressStyleModel",
          "state": {
            "_model_module": "@jupyter-widgets/controls",
            "_model_module_version": "1.5.0",
            "_model_name": "ProgressStyleModel",
            "_view_count": null,
            "_view_module": "@jupyter-widgets/base",
            "_view_module_version": "1.2.0",
            "_view_name": "StyleView",
            "bar_color": null,
            "description_width": ""
          }
        },
        "efa889deafff4081b46dc4a4c04e0394": {
          "model_module": "@jupyter-widgets/base",
          "model_module_version": "1.2.0",
          "model_name": "LayoutModel",
          "state": {
            "_model_module": "@jupyter-widgets/base",
            "_model_module_version": "1.2.0",
            "_model_name": "LayoutModel",
            "_view_count": null,
            "_view_module": "@jupyter-widgets/base",
            "_view_module_version": "1.2.0",
            "_view_name": "LayoutView",
            "align_content": null,
            "align_items": null,
            "align_self": null,
            "border": null,
            "bottom": null,
            "display": null,
            "flex": null,
            "flex_flow": null,
            "grid_area": null,
            "grid_auto_columns": null,
            "grid_auto_flow": null,
            "grid_auto_rows": null,
            "grid_column": null,
            "grid_gap": null,
            "grid_row": null,
            "grid_template_areas": null,
            "grid_template_columns": null,
            "grid_template_rows": null,
            "height": null,
            "justify_content": null,
            "justify_items": null,
            "left": null,
            "margin": null,
            "max_height": null,
            "max_width": null,
            "min_height": null,
            "min_width": null,
            "object_fit": null,
            "object_position": null,
            "order": null,
            "overflow": null,
            "overflow_x": null,
            "overflow_y": null,
            "padding": null,
            "right": null,
            "top": null,
            "visibility": null,
            "width": null
          }
        },
        "f679cbcc1f8a47fb9e0cd91f6ecc6bf2": {
          "model_module": "@jupyter-widgets/base",
          "model_module_version": "1.2.0",
          "model_name": "LayoutModel",
          "state": {
            "_model_module": "@jupyter-widgets/base",
            "_model_module_version": "1.2.0",
            "_model_name": "LayoutModel",
            "_view_count": null,
            "_view_module": "@jupyter-widgets/base",
            "_view_module_version": "1.2.0",
            "_view_name": "LayoutView",
            "align_content": null,
            "align_items": null,
            "align_self": null,
            "border": null,
            "bottom": null,
            "display": null,
            "flex": null,
            "flex_flow": null,
            "grid_area": null,
            "grid_auto_columns": null,
            "grid_auto_flow": null,
            "grid_auto_rows": null,
            "grid_column": null,
            "grid_gap": null,
            "grid_row": null,
            "grid_template_areas": null,
            "grid_template_columns": null,
            "grid_template_rows": null,
            "height": null,
            "justify_content": null,
            "justify_items": null,
            "left": null,
            "margin": null,
            "max_height": null,
            "max_width": null,
            "min_height": null,
            "min_width": null,
            "object_fit": null,
            "object_position": null,
            "order": null,
            "overflow": null,
            "overflow_x": null,
            "overflow_y": null,
            "padding": null,
            "right": null,
            "top": null,
            "visibility": null,
            "width": null
          }
        }
      }
    }
  },
  "nbformat": 4,
  "nbformat_minor": 0
}
