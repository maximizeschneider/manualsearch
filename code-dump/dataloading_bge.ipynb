{
  "cells": [
    {
      "cell_type": "code",
      "execution_count": null,
      "metadata": {
        "colab": {
          "base_uri": "https://localhost:8080/"
        },
        "id": "pWejnSXQn3sb",
        "outputId": "e584dfa1-6e99-47ca-d34d-7dd2342549bc"
      },
      "outputs": [
        {
          "name": "stdout",
          "output_type": "stream",
          "text": [
            "\u001b[?25l   \u001b[90m━━━━━━━━━━━━━━━━━━━━━━━━━━━━━━━━━━━━━━━━\u001b[0m \u001b[32m0.0/267.2 kB\u001b[0m \u001b[31m?\u001b[0m eta \u001b[36m-:--:--\u001b[0m\r\u001b[2K   \u001b[90m━━━━━━━━━━━━━━━━━━━━━━━━━━━━━━━━━━━━━━━━\u001b[0m \u001b[32m267.2/267.2 kB\u001b[0m \u001b[31m13.8 MB/s\u001b[0m eta \u001b[36m0:00:00\u001b[0m\n",
            "\u001b[?25h\u001b[?25l   \u001b[90m━━━━━━━━━━━━━━━━━━━━━━━━━━━━━━━━━━━━━━━━\u001b[0m \u001b[32m0.0/2.4 MB\u001b[0m \u001b[31m?\u001b[0m eta \u001b[36m-:--:--\u001b[0m\r\u001b[2K   \u001b[91m━━━━━━━━━━━━━━━━━━━━━━━━━━━━━━━━━━━━━━━\u001b[0m\u001b[91m╸\u001b[0m \u001b[32m2.4/2.4 MB\u001b[0m \u001b[31m137.5 MB/s\u001b[0m eta \u001b[36m0:00:01\u001b[0m\r\u001b[2K   \u001b[90m━━━━━━━━━━━━━━━━━━━━━━━━━━━━━━━━━━━━━━━━\u001b[0m \u001b[32m2.4/2.4 MB\u001b[0m \u001b[31m64.5 MB/s\u001b[0m eta \u001b[36m0:00:00\u001b[0m\n",
            "\u001b[?25h\u001b[?25l   \u001b[90m━━━━━━━━━━━━━━━━━━━━━━━━━━━━━━━━━━━━━━━━\u001b[0m \u001b[32m0.0/57.5 kB\u001b[0m \u001b[31m?\u001b[0m eta \u001b[36m-:--:--\u001b[0m\r\u001b[2K   \u001b[90m━━━━━━━━━━━━━━━━━━━━━━━━━━━━━━━━━━━━━━━━\u001b[0m \u001b[32m57.5/57.5 kB\u001b[0m \u001b[31m4.4 MB/s\u001b[0m eta \u001b[36m0:00:00\u001b[0m\n",
            "\u001b[?25h\u001b[?25l   \u001b[90m━━━━━━━━━━━━━━━━━━━━━━━━━━━━━━━━━━━━━━━━\u001b[0m \u001b[32m0.0/319.7 kB\u001b[0m \u001b[31m?\u001b[0m eta \u001b[36m-:--:--\u001b[0m\r\u001b[2K   \u001b[90m━━━━━━━━━━━━━━━━━━━━━━━━━━━━━━━━━━━━━━━━\u001b[0m \u001b[32m319.7/319.7 kB\u001b[0m \u001b[31m20.5 MB/s\u001b[0m eta \u001b[36m0:00:00\u001b[0m\n",
            "\u001b[?25h\u001b[31mERROR: pip's dependency resolver does not currently take into account all the packages that are installed. This behaviour is the source of the following dependency conflicts.\n",
            "tensorflow 2.17.1 requires protobuf!=4.21.0,!=4.21.1,!=4.21.2,!=4.21.3,!=4.21.4,!=4.21.5,<5.0.0dev,>=3.20.3, but you have protobuf 5.29.1 which is incompatible.\n",
            "tensorflow-metadata 1.13.1 requires protobuf<5,>=3.20.3, but you have protobuf 5.29.1 which is incompatible.\u001b[0m\u001b[31m\n",
            "\u001b[0m"
          ]
        }
      ],
      "source": [
        "!pip install -q -U qdrant-client stamina"
      ]
    },
    {
      "cell_type": "code",
      "execution_count": null,
      "metadata": {
        "id": "a7Zje-4FuVAj"
      },
      "outputs": [],
      "source": [
        "import torch\n",
        "from torch.utils.data import DataLoader\n",
        "from tqdm import tqdm\n",
        "from io import BytesIO\n",
        "from qdrant_client import QdrantClient\n",
        "from qdrant_client.http import models\n",
        "from IPython.display import display\n",
        "from io import BytesIO\n",
        "import base64\n",
        "from PIL import Image\n",
        "import torch\n",
        "import cv2\n",
        "import numpy as np\n",
        "from pathlib import Path\n",
        "from typing import List, Dict\n",
        "from tqdm import tqdm\n",
        "import json\n",
        "import os\n",
        "\n",
        "def encode_base64_image(image):\n",
        "    buffered = BytesIO()\n",
        "    image.save(buffered, format=\"JPEG\")\n",
        "    return str(base64.b64encode(buffered.getvalue()), \"utf-8\")\n",
        "\n",
        "\n",
        "def decode_base64_image(base64_string):\n",
        "    # Decode the base64 string into bytes\n",
        "    image_data = base64.b64decode(base64_string)\n",
        "\n",
        "    # Convert the bytes back into an image\n",
        "    buffered = BytesIO(image_data)\n",
        "    image = Image.open(buffered)\n",
        "\n",
        "    return image\n",
        "\n",
        "\n",
        "def resize_image(image, max_height=800):\n",
        "    width, height = image.size\n",
        "    if height > max_height:\n",
        "        ratio = max_height / height\n",
        "        new_width = int(width * ratio)\n",
        "        new_height = int(height * ratio)\n",
        "        return image.resize((new_width, new_height))\n",
        "    return image\n",
        "\n",
        "\n",
        "def save_json(data, filename):\n",
        "    with open(filename, 'w') as f:\n",
        "        json.dump(data, f, indent=2)\n",
        "\n",
        "def load_json(filename):\n",
        "    with open(filename, 'r') as f:\n",
        "        return json.load(f)\n",
        "\n",
        "def combine_json_files(directory: str):\n",
        "    combined_data = []\n",
        "\n",
        "    for filename in os.listdir(directory):\n",
        "        if filename.endswith('.json'):\n",
        "            file_path = os.path.join(directory, filename)\n",
        "            data = load_json(file_path)\n",
        "            combined_data.extend(data)\n",
        "\n",
        "    return combined_data\n",
        "def convert_sparse_output(sparse_output):\n",
        "    sparse_transformed = []\n",
        "    for dic in sparse_output:\n",
        "        result = {\"values\": [], \"indices\": []}\n",
        "        for idx, val in dic.items():\n",
        "            result[\"values\"].append(val)\n",
        "            result[\"indices\"].append(int(idx))\n",
        "        sparse_transformed.append(result)\n",
        "    return sparse_transformed"
      ]
    },
    {
      "cell_type": "code",
      "execution_count": null,
      "metadata": {
        "colab": {
          "base_uri": "https://localhost:8080/"
        },
        "id": "KJoexqTHyXBK",
        "outputId": "da67e0e9-57bf-4a8b-ce0a-19bb2bf1e54d"
      },
      "outputs": [
        {
          "name": "stdout",
          "output_type": "stream",
          "text": [
            "Mounted at /content/drive\n"
          ]
        }
      ],
      "source": [
        "from google.colab import drive\n",
        "drive.mount('/content/drive')"
      ]
    },
    {
      "cell_type": "code",
      "execution_count": null,
      "metadata": {
        "colab": {
          "base_uri": "https://localhost:8080/"
        },
        "id": "vQZ5nRgx3kUz",
        "outputId": "38e410e1-e4bf-4037-87c7-d3fd893cb2ee"
      },
      "outputs": [
        {
          "name": "stderr",
          "output_type": "stream",
          "text": [
            "<ipython-input-15-10c11b4191bd>:8: DeprecationWarning: `recreate_collection` method is deprecated and will be removed in the future. Use `collection_exists` to check collection existence and `create_collection` instead.\n",
            "  qdrant_client.recreate_collection(\n"
          ]
        },
        {
          "data": {
            "text/plain": [
              "True"
            ]
          },
          "execution_count": 15,
          "metadata": {},
          "output_type": "execute_result"
        }
      ],
      "source": [
        "collection_name = \"embedded-manuals\"\n",
        "QDRANT_API_KEY = \"\"\n",
        "qdrant_client = QdrantClient(\n",
        "    url=\"https://568e9069-f3eb-4ee2-8e22-52e7bad7d3b7.europe-west3-0.gcp.cloud.qdrant.io:6333\",\n",
        "    api_key=QDRANT_API_KEY,\n",
        ")\n",
        "\n",
        "qdrant_client.recreate_collection(\n",
        "    collection_name=collection_name,\n",
        "    on_disk_payload=True,\n",
        "    vectors_config = {\n",
        "        \"dense\": models.VectorParams(\n",
        "        size=1024,\n",
        "        distance=models.Distance.DOT,\n",
        "    ),  \"multi\": models.VectorParams(\n",
        "        size=128,\n",
        "        distance=models.Distance.DOT,\n",
        "        multivector_config=models.MultiVectorConfig(\n",
        "            comparator=models.MultiVectorComparator.MAX_SIM\n",
        "        ),\n",
        "    )\n",
        "      },\n",
        "    sparse_vectors_config = {\n",
        "        \"sparse\": models.SparseVectorParams(\n",
        "            index=models.SparseIndexParams(\n",
        "                on_disk=False,\n",
        "            )\n",
        "        ),\n",
        "        \"sparse_headings\": models.SparseVectorParams(\n",
        "            index=models.SparseIndexParams(\n",
        "                on_disk=False,\n",
        "            ))\n",
        "    }\n",
        ")"
      ]
    },
    {
      "cell_type": "code",
      "execution_count": null,
      "metadata": {
        "id": "NS1--cKIRuz6"
      },
      "outputs": [],
      "source": [
        "all_data = load_json(\"/content/drive/MyDrive/Embeddings/Neue/embedded-manuals.json\")"
      ]
    },
    {
      "cell_type": "code",
      "execution_count": null,
      "metadata": {
        "id": "n6po6pI6Rg-O"
      },
      "outputs": [],
      "source": [
        "qdrant_documents_multi = []\n",
        "iddd = 0\n",
        "for page in all_data:\n",
        "    iddd += 1\n",
        "    qdrant_documents_multi.append(\n",
        "          models.PointStruct(\n",
        "              id= iddd,\n",
        "              vector={\n",
        "                \"dense\": page[\"dense_embeddings\"],\n",
        "                \"sparse\": page[\"sparse_embeddings\"],\n",
        "                \"multi\": page[\"colbert_embeddings\"],\n",
        "                \"sparse_headings\": page[\"sparse_headings\"],\n",
        "\n",
        "              },\n",
        "              payload={\n",
        "                  \"title\": page[\"title\"],\n",
        "                  \"page_number\": page[\"page_number\"],\n",
        "                  \"text\": page[\"text\"],\n",
        "                  \"headings\": page[\"headings\"],\n",
        "                  \"language\": page[\"language\"],\n",
        "                  \"label\": page[\"label\"],\n",
        "                  \"image\": page[\"base64\"],\n",
        "\n",
        "              },\n",
        "          )\n",
        "      )\n"
      ]
    },
    {
      "cell_type": "code",
      "execution_count": null,
      "metadata": {
        "id": "knU2lN-wam3L"
      },
      "outputs": [],
      "source": [
        "import stamina\n",
        "\n",
        "\n",
        "@stamina.retry(on=Exception, attempts=3)\n",
        "def upsert_to_qdrant(batch):\n",
        "    try:\n",
        "        qdrant_client.upsert(\n",
        "            collection_name=collection_name,\n",
        "            points=batch,\n",
        "            wait=False,\n",
        "        )\n",
        "    except Exception as e:\n",
        "        print(f\"Error during upsert: {e}\")\n",
        "        return False\n",
        "    return True"
      ]
    },
    {
      "cell_type": "code",
      "execution_count": null,
      "metadata": {
        "colab": {
          "base_uri": "https://localhost:8080/"
        },
        "id": "UarHXdyYap3M",
        "outputId": "e9dca13c-9766-41cc-918f-a68db323faf6"
      },
      "outputs": [
        {
          "name": "stderr",
          "output_type": "stream",
          "text": [
            "Upserting Progress: 1080it [00:31, 33.88it/s]"
          ]
        },
        {
          "name": "stdout",
          "output_type": "stream",
          "text": [
            "Upserting complete!\n"
          ]
        },
        {
          "name": "stderr",
          "output_type": "stream",
          "text": [
            "\n"
          ]
        }
      ],
      "source": [
        "batch_size = 10\n",
        "\n",
        "with tqdm(total=len(qdrant_documents_multi), desc=\"Upserting Progress\") as pbar:\n",
        "    for i in range(0, len(qdrant_documents_multi), batch_size):\n",
        "        points = qdrant_documents_multi[i : i + batch_size]\n",
        "\n",
        "        try:\n",
        "            upsert_to_qdrant(points)\n",
        "        except Exception as e:\n",
        "            print(f\"Error during upsert: {e}\")\n",
        "            continue\n",
        "\n",
        "        pbar.update(batch_size)\n",
        "\n",
        "print(\"Upserting complete!\")"
      ]
    },
    {
      "cell_type": "code",
      "execution_count": null,
      "metadata": {
        "colab": {
          "base_uri": "https://localhost:8080/"
        },
        "id": "pFSqCbk_VHUi",
        "outputId": "3bda57e2-747e-48f6-b87c-090ed92df56f"
      },
      "outputs": [
        {
          "name": "stdout",
          "output_type": "stream",
          "text": [
            "[{'id': 1, 'title': 'MiR 24V Battery Troubleshooting and Technical Guide 2.1_en', 'page_number': 1}, {'id': 2, 'title': 'MiR 24V Battery Troubleshooting and Technical Guide 2.1_en', 'page_number': 2}, {'id': 3, 'title': 'MiR 24V Battery Troubleshooting and Technical Guide 2.1_en', 'page_number': 3}, {'id': 4, 'title': 'MiR 24V Battery Troubleshooting and Technical Guide 2.1_en', 'page_number': 4}, {'id': 5, 'title': 'MiR 24V Battery Troubleshooting and Technical Guide 2.1_en', 'page_number': 5}]\n"
          ]
        }
      ],
      "source": [
        "ids_json = []\n",
        "i = 0\n",
        "for page in all_data:\n",
        "    i += 1\n",
        "    ids_json.append(\n",
        "        {\n",
        "            \"id\": i,\n",
        "            \"title\": page[\"title\"],\n",
        "            \"page_number\": page[\"page_number\"],\n",
        "        }\n",
        "    )\n",
        "save_json(ids_json, \"/content/drive/MyDrive/Embeddings/Neue/ids-pages.json\")\n",
        "print(ids_json[:5])"
      ]
    },
    {
      "cell_type": "markdown",
      "metadata": {
        "id": "r_Q9iHjlRIJm"
      },
      "source": [
        "# Chunks"
      ]
    },
    {
      "cell_type": "code",
      "execution_count": null,
      "metadata": {
        "colab": {
          "base_uri": "https://localhost:8080/"
        },
        "id": "Ml9G5wHHRJ0k",
        "outputId": "62db1c23-0304-415b-ee37-0c031ba790d7"
      },
      "outputs": [
        {
          "name": "stderr",
          "output_type": "stream",
          "text": [
            "<ipython-input-11-6f5c86a6d9d2>:8: DeprecationWarning: `recreate_collection` method is deprecated and will be removed in the future. Use `collection_exists` to check collection existence and `create_collection` instead.\n",
            "  qdrant_client.recreate_collection(\n"
          ]
        },
        {
          "data": {
            "text/plain": [
              "True"
            ]
          },
          "execution_count": 11,
          "metadata": {},
          "output_type": "execute_result"
        }
      ],
      "source": [
        "collection_name = \"chunked-and-embedded-manuals\"\n",
        "QDRANT_API_KEY = \"\"\n",
        "qdrant_client = QdrantClient(\n",
        "     url=\"https://c1c6b76d-3e82-4265-8850-542922eeb4b9.us-east4-0.gcp.cloud.qdrant.io:6333/dashboard#/collections\",\n",
        "     api_key=QDRANT_API_KEY,\n",
        " )\n",
        "\n",
        "qdrant_client.recreate_collection(\n",
        "    collection_name=collection_name,\n",
        "    on_disk_payload=True,\n",
        "    vectors_config = {\n",
        "        \"dense\": models.VectorParams(\n",
        "        size=1024,\n",
        "        distance=models.Distance.DOT,\n",
        "    ),  \"multi\": models.VectorParams(\n",
        "        size=128,\n",
        "        distance=models.Distance.DOT,\n",
        "        multivector_config=models.MultiVectorConfig(\n",
        "            comparator=models.MultiVectorComparator.MAX_SIM\n",
        "        ),\n",
        "    )\n",
        "      },\n",
        "    sparse_vectors_config = {\n",
        "        \"sparse\": models.SparseVectorParams(\n",
        "            index=models.SparseIndexParams(\n",
        "                on_disk=False,\n",
        "            )\n",
        "        ),\n",
        "        \"sparse_headings\": models.SparseVectorParams(\n",
        "            index=models.SparseIndexParams(\n",
        "                on_disk=False,\n",
        "            ))\n",
        "    }\n",
        ")"
      ]
    },
    {
      "cell_type": "code",
      "execution_count": null,
      "metadata": {
        "id": "mzJbGs76R3ie"
      },
      "outputs": [],
      "source": [
        "all_data_chunks = load_json(\"/content/drive/MyDrive/Embeddings/Neue/chunked-and-embedded-manuals.json\")"
      ]
    },
    {
      "cell_type": "code",
      "execution_count": null,
      "metadata": {
        "id": "VWvIyPnkRRdc"
      },
      "outputs": [],
      "source": [
        "qdrant_documents_multi = []\n",
        "i = 0\n",
        "for chunk in all_data_chunks:\n",
        "    i += 1\n",
        "    qdrant_documents_multi.append(\n",
        "          models.PointStruct(\n",
        "              id= i,\n",
        "              vector={\n",
        "                \"dense\": chunk[\"dense_embeddings\"],\n",
        "                \"sparse\": chunk[\"sparse_embeddings\"],\n",
        "                \"multi\": chunk[\"colbert_embeddings\"],\n",
        "                \"sparse_headings\": chunk[\"sparse_headings\"]\n",
        "\n",
        "              },\n",
        "              payload={\n",
        "                  \"title\": chunk[\"title\"],\n",
        "                  \"page_number\": chunk[\"page_number\"],\n",
        "                  \"text\": chunk[\"text\"],\n",
        "                  \"headings\": chunk[\"headings\"],\n",
        "                  \"language\": chunk[\"language\"],\n",
        "                  \"label\": chunk[\"label\"],\n",
        "                  \"image\": chunk[\"base64\"],\n",
        "\n",
        "              },\n",
        "          )\n",
        "      )\n"
      ]
    },
    {
      "cell_type": "code",
      "execution_count": null,
      "metadata": {
        "id": "-RJMe9aORScI"
      },
      "outputs": [],
      "source": [
        "import stamina\n",
        "\n",
        "\n",
        "@stamina.retry(on=Exception, attempts=3)\n",
        "def upsert_to_qdrant(batch):\n",
        "    try:\n",
        "        qdrant_client.upsert(\n",
        "            collection_name=collection_name,\n",
        "            points=batch,\n",
        "            wait=False,\n",
        "        )\n",
        "    except Exception as e:\n",
        "        print(f\"Error during upsert: {e}\")\n",
        "        return False\n",
        "    return True"
      ]
    },
    {
      "cell_type": "code",
      "execution_count": null,
      "metadata": {
        "colab": {
          "base_uri": "https://localhost:8080/"
        },
        "id": "xB09oZmJRUDJ",
        "outputId": "6250b48a-1c95-4d1d-c71c-6144f0b73d41"
      },
      "outputs": [
        {
          "name": "stderr",
          "output_type": "stream",
          "text": [
            "Upserting Progress: 3120it [01:44, 29.88it/s]"
          ]
        },
        {
          "name": "stdout",
          "output_type": "stream",
          "text": [
            "Upserting complete!\n"
          ]
        },
        {
          "name": "stderr",
          "output_type": "stream",
          "text": [
            "\n"
          ]
        }
      ],
      "source": [
        "batch_size = 10\n",
        "\n",
        "with tqdm(total=len(qdrant_documents_multi), desc=\"Upserting Progress\") as pbar:\n",
        "    for i in range(0, len(qdrant_documents_multi), batch_size):\n",
        "        points = qdrant_documents_multi[i : i + batch_size]\n",
        "\n",
        "        try:\n",
        "            upsert_to_qdrant(points)\n",
        "        except Exception as e:\n",
        "            print(f\"Error during upsert: {e}\")\n",
        "            continue\n",
        "\n",
        "        pbar.update(batch_size)\n",
        "\n",
        "print(\"Upserting complete!\")"
      ]
    }
  ],
  "metadata": {
    "accelerator": "GPU",
    "colab": {
      "gpuType": "T4",
      "machine_shape": "hm",
      "provenance": []
    },
    "kernelspec": {
      "display_name": "Python 3",
      "name": "python3"
    },
    "language_info": {
      "name": "python"
    }
  },
  "nbformat": 4,
  "nbformat_minor": 0
}
